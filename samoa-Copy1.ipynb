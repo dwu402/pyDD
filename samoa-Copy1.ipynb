{
 "cells": [
  {
   "cell_type": "code",
   "execution_count": 1,
   "metadata": {
    "ExecuteTime": {
     "end_time": "2019-11-27T02:59:42.979188Z",
     "start_time": "2019-11-27T02:59:42.580378Z"
    }
   },
   "outputs": [],
   "source": [
    "import modeller\n",
    "import fitter\n",
    "\n",
    "from functions.misc import knot_fn\n",
    "\n",
    "import casadi as ca\n",
    "import numpy as np\n",
    "from matplotlib import pyplot as plt\n",
    "from copy import copy\n",
    "import pandas as pd"
   ]
  },
  {
   "cell_type": "markdown",
   "metadata": {},
   "source": [
    "## Analysis of total cases"
   ]
  },
  {
   "cell_type": "markdown",
   "metadata": {},
   "source": [
    "![](out/seihrd.png)\n",
    "\n",
    "This is the idealised SEIR model with isolation (Hospitalisation) and Deaths. In the model below, we also want to capture the discharge information (H to R) so we capture them in a new compartment G (discharGe).\n",
    "\n",
    "The data we have is:\n",
    "- newly reported cases (entries into the I compartment)\n",
    "- cumulative newly reported cases (captured by the square I box, shown incorrectly above, will fix)\n",
    "- number of people in isolation (H)\n",
    "- cumulative number of people ever in isolation (square box H)\n",
    "- number of discharged from isolation\n",
    "- number of deaths"
   ]
  },
  {
   "cell_type": "code",
   "execution_count": 2,
   "metadata": {
    "ExecuteTime": {
     "end_time": "2019-11-27T02:59:43.199575Z",
     "start_time": "2019-11-27T02:59:43.195752Z"
    }
   },
   "outputs": [],
   "source": [
    "def seir(t, y, p):\n",
    "    b, g, e, d, a, m = p[:6]\n",
    "    S,E,I,H,G,R,D,cE,cH = y[:9]\n",
    "    return [\n",
    "        -b*S*I/(S+E+I+H+G+R),\n",
    "        b*S*I/(S+E+I+H+G+R)-g*E,\n",
    "        g*E-(e+a+m)*I,\n",
    "        e*I-d*H,\n",
    "        d*H,\n",
    "        a*I,\n",
    "        m*I,\n",
    "        g*E,\n",
    "        e*I\n",
    "    ]"
   ]
  },
  {
   "cell_type": "code",
   "execution_count": 12,
   "metadata": {
    "ExecuteTime": {
     "end_time": "2019-11-27T06:54:40.205118Z",
     "start_time": "2019-11-27T06:54:40.054876Z"
    }
   },
   "outputs": [
    {
     "data": {
      "text/plain": [
       "<matplotlib.legend.Legend at 0x7ff11969b390>"
      ]
     },
     "execution_count": 12,
     "metadata": {},
     "output_type": "execute_result"
    },
    {
     "data": {
      "image/png": "[encoded data removed]",
      "text/plain": [
       "<Figure size 432x288 with 1 Axes>"
      ]
     },
     "metadata": {
      "needs_background": "light"
     },
     "output_type": "display_data"
    }
   ],
   "source": [
    "time = [0,2,8,23,27,35,42,50,53,54,56,57,58]\n",
    "S = [141105] + [None]*(len(time)-1)\n",
    "R = [54874] + [None]*(len(time)-1)\n",
    "H = [0, 0, 0, 11, None, None, None, 189, 147, 147, 183, 176, 193]\n",
    "G = [4, 7, 7, 37, None, None, None, None, None, None, 471, 558, 572]\n",
    "D = [0, 0, 1, 1, 3, 3, 6, 16, 20, 22, 25, 32, 33]\n",
    "cE = [28, 36, None, 169, 314, 513, 716, 1174, 1644, 1797, 2194, 2437, 2686]\n",
    "cH = [4, 7, 8, 49, 91, 195, 290, None, None, None, 679, 766, 798]\n",
    "\n",
    "plt.plot(time, H, 'o', time, G, 'o', time, D, 'o', time, cE, 'o', time , cH, 'o')\n",
    "plt.legend(\"HGDRA\")"
   ]
  },
  {
   "cell_type": "code",
   "execution_count": null,
   "metadata": {},
   "outputs": [],
   "source": []
  }
 ],
 "metadata": {
  "@webio": {
   "lastCommId": "4dceee43eb8949f88a49bc53ba31e6b2",
   "lastKernelId": "f2c25a69-bc5e-4b3b-9180-12413f79962a"
  },
  "kernelspec": {
   "display_name": "Python 3",
   "language": "python",
   "name": "python3"
  },
  "language_info": {
   "codemirror_mode": {
    "name": "ipython",
    "version": 3
   },
   "file_extension": ".py",
   "mimetype": "text/x-python",
   "name": "python",
   "nbconvert_exporter": "python",
   "pygments_lexer": "ipython3",
   "version": "3.7.4"
  }
 },
 "nbformat": 4,
 "nbformat_minor": 2
}
