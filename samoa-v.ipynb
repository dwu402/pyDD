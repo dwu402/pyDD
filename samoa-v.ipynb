{
 "cells": [
  {
   "cell_type": "markdown",
   "metadata": {},
   "source": [
    "## Notes\n",
    "\n",
    "We are weighting based on time (more recent reports are weighted more heavily when fitting data).\n",
    "\n",
    "We have scant data past early November, and data around that point in time is suffereing from delays in reporting.\n"
   ]
  },
  {
   "cell_type": "code",
   "execution_count": 1,
   "metadata": {
    "ExecuteTime": {
     "end_time": "2019-12-18T04:28:54.791481Z",
     "start_time": "2019-12-18T04:28:54.393481Z"
    }
   },
   "outputs": [],
   "source": [
    "import modeller\n",
    "import fitter\n",
    "\n",
    "from functions.misc import knot_fn\n",
    "\n",
    "import casadi as ca\n",
    "import numpy as np\n",
    "from matplotlib import pyplot as plt\n",
    "from copy import copy\n",
    "import pandas as pd"
   ]
  },
  {
   "cell_type": "markdown",
   "metadata": {},
   "source": [
    "## Analysis of total cases"
   ]
  },
  {
   "cell_type": "code",
   "execution_count": 2,
   "metadata": {
    "ExecuteTime": {
     "end_time": "2019-12-18T04:28:54.796698Z",
     "start_time": "2019-12-18T04:28:54.792684Z"
    }
   },
   "outputs": [],
   "source": [
    "def seir(t, y, p):\n",
    "    return [\n",
    "        -p[1]*y[0]*y[2]/sum(y[:4]) - ca.if_else(t>84, p[3]*y[0], 0, True),\n",
    "        p[1]*y[0]*y[2]/sum(y[:4]) - p[2]*y[1],\n",
    "        p[2]*y[1] - p[0]*y[2],\n",
    "        p[0]*y[2],\n",
    "        p[2]*y[1]\n",
    "    ]"
   ]
  },
  {
   "cell_type": "code",
   "execution_count": 3,
   "metadata": {
    "ExecuteTime": {
     "end_time": "2019-12-18T04:28:54.802869Z",
     "start_time": "2019-12-18T04:28:54.797876Z"
    }
   },
   "outputs": [],
   "source": [
    "the_data = pd.read_csv(\"../samoa/samoa-data/samoa_press_release_data.csv\", header=0, dayfirst=True, parse_dates=True, skiprows=[1])\n",
    "raw_times, raw_cumdata, H, cH, D, G = the_data.iloc[:,1:].values.T"
   ]
  },
  {
   "cell_type": "code",
   "execution_count": 4,
   "metadata": {
    "ExecuteTime": {
     "end_time": "2019-12-18T04:28:54.807836Z",
     "start_time": "2019-12-18T04:28:54.804117Z"
    }
   },
   "outputs": [],
   "source": [
    "start = 1\n",
    "clip = None\n",
    "times = raw_times[start:(-clip if clip else None)] + 33\n",
    "cumdata = raw_cumdata[start:(-clip if clip else None)]"
   ]
  },
  {
   "cell_type": "code",
   "execution_count": 5,
   "metadata": {
    "ExecuteTime": {
     "end_time": "2019-12-18T04:28:55.051791Z",
     "start_time": "2019-12-18T04:28:54.808813Z"
    }
   },
   "outputs": [
    {
     "data": {
      "text/plain": [
       "Text(0.5, 0, 'Days after 28 August 2019')"
      ]
     },
     "execution_count": 5,
     "metadata": {},
     "output_type": "execute_result"
    },
    {
     "data": {
      "image/png": "[encoded data removed]",
      "text/plain": [
       "<Figure size 936x576 with 1 Axes>"
      ]
     },
     "metadata": {
      "needs_background": "light"
     },
     "output_type": "display_data"
    }
   ],
   "source": [
    "plt.figure(figsize=[13,8])\n",
    "plt.bar(times, cumdata)\n",
    "plt.ylabel(\"Reported Cases\")\n",
    "plt.xlabel(\"Days after 28 August 2019\")"
   ]
  },
  {
   "cell_type": "code",
   "execution_count": 6,
   "metadata": {
    "ExecuteTime": {
     "end_time": "2019-12-18T04:28:55.302897Z",
     "start_time": "2019-12-18T04:28:55.052782Z"
    }
   },
   "outputs": [
    {
     "data": {
      "text/plain": [
       "Text(0.5, 0, 'Days after 28 August 2019')"
      ]
     },
     "execution_count": 6,
     "metadata": {},
     "output_type": "execute_result"
    },
    {
     "data": {
      "image/png": "[encoded data removed]",
      "text/plain": [
       "<Figure size 936x576 with 1 Axes>"
      ]
     },
     "metadata": {
      "needs_background": "light"
     },
     "output_type": "display_data"
    }
   ],
   "source": [
    "plt.figure(figsize=[13,8])\n",
    "plt.bar(times, np.gradient(cumdata, times))\n",
    "plt.ylabel(\"New Reported Cases / Day\")\n",
    "plt.xlabel(\"Days after 28 August 2019\")"
   ]
  },
  {
   "cell_type": "code",
   "execution_count": 7,
   "metadata": {
    "ExecuteTime": {
     "end_time": "2019-12-18T04:28:55.308127Z",
     "start_time": "2019-12-18T04:28:55.304115Z"
    }
   },
   "outputs": [],
   "source": [
    "data_pd = np.array([[i] for i in cumdata])\n",
    "p0 = [1/8, 1, 1/8, 0]\n",
    "config = {\n",
    "    \"grid_size\": 100,\n",
    "    \"basis_number\": 24,\n",
    "    \"model_form\": {\n",
    "        \"state\": 5,\n",
    "        \"parameters\": 4\n",
    "    },\n",
    "    \"time_span\": [times[0], 130],\n",
    "    \"knot_function\": None,\n",
    "    \"model\": seir,\n",
    "    \"dataset\": {\"y\": data_pd, \"t\": np.array(times)},\n",
    "    \"observation_vector\": [-1],\n",
    "    \"weightings\":[\n",
    "        [1]*5,\n",
    "        np.sqrt(times/np.mean(times))\n",
    "    ],\n",
    "    \"regularisation_value\": copy(p0),\n",
    "}"
   ]
  },
  {
   "cell_type": "code",
   "execution_count": 8,
   "metadata": {
    "ExecuteTime": {
     "end_time": "2019-12-18T04:28:56.013039Z",
     "start_time": "2019-12-18T04:28:55.309760Z"
    }
   },
   "outputs": [
    {
     "ename": "NotImplementedError",
     "evalue": "Wrong number or type of arguments for overloaded function 'if_else'.\n  Possible prototypes are:\n    if_else(DM,DM,DM,bool)\n    if_else(SX,SX,SX,bool)\n    if_else(MX,MX,MX,bool)\n  You have: '(MX,SX,int,bool)'\n",
     "output_type": "error",
     "traceback": [
      "\u001b[0;31m---------------------------------------------------------\u001b[0m",
      "\u001b[0;31mNotImplementedError\u001b[0m     Traceback (most recent call last)",
      "\u001b[0;32m<ipython-input-8-ce1f3fe94b63>\u001b[0m in \u001b[0;36m<module>\u001b[0;34m\u001b[0m\n\u001b[0;32m----> 1\u001b[0;31m \u001b[0mmodel\u001b[0m \u001b[0;34m=\u001b[0m \u001b[0mmodeller\u001b[0m\u001b[0;34m.\u001b[0m\u001b[0mModel\u001b[0m\u001b[0;34m(\u001b[0m\u001b[0mconfig\u001b[0m\u001b[0;34m)\u001b[0m\u001b[0;34m\u001b[0m\u001b[0;34m\u001b[0m\u001b[0m\n\u001b[0m\u001b[1;32m      2\u001b[0m \u001b[0mconfig\u001b[0m\u001b[0;34m[\u001b[0m\u001b[0;34m'regularisation_value'\u001b[0m\u001b[0;34m]\u001b[0m\u001b[0;34m[\u001b[0m\u001b[0;36m1\u001b[0m\u001b[0;34m]\u001b[0m \u001b[0;34m=\u001b[0m \u001b[0mmodel\u001b[0m\u001b[0;34m.\u001b[0m\u001b[0mps\u001b[0m\u001b[0;34m[\u001b[0m\u001b[0;36m1\u001b[0m\u001b[0;34m]\u001b[0m\u001b[0;34m\u001b[0m\u001b[0;34m\u001b[0m\u001b[0m\n\u001b[1;32m      3\u001b[0m \u001b[0mobjective\u001b[0m \u001b[0;34m=\u001b[0m \u001b[0mfitter\u001b[0m\u001b[0;34m.\u001b[0m\u001b[0mObjective\u001b[0m\u001b[0;34m(\u001b[0m\u001b[0;34m)\u001b[0m\u001b[0;34m\u001b[0m\u001b[0;34m\u001b[0m\u001b[0m\n\u001b[1;32m      4\u001b[0m \u001b[0mobjective\u001b[0m\u001b[0;34m.\u001b[0m\u001b[0mmake\u001b[0m\u001b[0;34m(\u001b[0m\u001b[0mconfig\u001b[0m\u001b[0;34m,\u001b[0m \u001b[0mconfig\u001b[0m\u001b[0;34m[\u001b[0m\u001b[0;34m'dataset'\u001b[0m\u001b[0;34m]\u001b[0m\u001b[0;34m,\u001b[0m \u001b[0mmodel\u001b[0m\u001b[0;34m)\u001b[0m\u001b[0;34m\u001b[0m\u001b[0;34m\u001b[0m\u001b[0m\n\u001b[1;32m      5\u001b[0m \u001b[0;34m\u001b[0m\u001b[0m\n",
      "\u001b[0;32m/media/dwu402/Data/ca-sh/modeller.py\u001b[0m in \u001b[0;36m__init__\u001b[0;34m(self, configuration)\u001b[0m\n\u001b[1;32m     24\u001b[0m \u001b[0;34m\u001b[0m\u001b[0m\n\u001b[1;32m     25\u001b[0m         \u001b[0;32mif\u001b[0m \u001b[0mconfiguration\u001b[0m \u001b[0;32mis\u001b[0m \u001b[0;32mnot\u001b[0m \u001b[0;32mNone\u001b[0m\u001b[0;34m:\u001b[0m\u001b[0;34m\u001b[0m\u001b[0;34m\u001b[0m\u001b[0m\n\u001b[0;32m---> 26\u001b[0;31m             \u001b[0mself\u001b[0m\u001b[0;34m.\u001b[0m\u001b[0mgenerate_model\u001b[0m\u001b[0;34m(\u001b[0m\u001b[0mconfiguration\u001b[0m\u001b[0;34m)\u001b[0m\u001b[0;34m\u001b[0m\u001b[0;34m\u001b[0m\u001b[0m\n\u001b[0m\u001b[1;32m     27\u001b[0m \u001b[0;34m\u001b[0m\u001b[0m\n\u001b[1;32m     28\u001b[0m     \u001b[0;32mdef\u001b[0m \u001b[0mgenerate_model\u001b[0m\u001b[0;34m(\u001b[0m\u001b[0mself\u001b[0m\u001b[0;34m,\u001b[0m \u001b[0mconfiguration\u001b[0m\u001b[0;34m)\u001b[0m\u001b[0;34m:\u001b[0m\u001b[0;34m\u001b[0m\u001b[0;34m\u001b[0m\u001b[0m\n",
      "\u001b[0;32m/media/dwu402/Data/ca-sh/modeller.py\u001b[0m in \u001b[0;36mgenerate_model\u001b[0;34m(self, configuration)\u001b[0m\n\u001b[1;32m     66\u001b[0m         self.model = ca.Function(\"model\",\n\u001b[1;32m     67\u001b[0m                                  \u001b[0;34m[\u001b[0m\u001b[0mself\u001b[0m\u001b[0;34m.\u001b[0m\u001b[0mtssx\u001b[0m\u001b[0;34m,\u001b[0m \u001b[0;34m*\u001b[0m\u001b[0mself\u001b[0m\u001b[0;34m.\u001b[0m\u001b[0mcs\u001b[0m\u001b[0;34m,\u001b[0m \u001b[0;34m*\u001b[0m\u001b[0mself\u001b[0m\u001b[0;34m.\u001b[0m\u001b[0mps\u001b[0m\u001b[0;34m]\u001b[0m\u001b[0;34m,\u001b[0m\u001b[0;34m\u001b[0m\u001b[0;34m\u001b[0m\u001b[0m\n\u001b[0;32m---> 68\u001b[0;31m                                  [ca.hcat(configuration['model'](self.ts, self.xs, self.ps))])\n\u001b[0m\u001b[1;32m     69\u001b[0m \u001b[0;34m\u001b[0m\u001b[0m\n\u001b[1;32m     70\u001b[0m     \u001b[0;32mdef\u001b[0m \u001b[0mget_x\u001b[0m\u001b[0;34m(\u001b[0m\u001b[0mself\u001b[0m\u001b[0;34m,\u001b[0m \u001b[0;34m*\u001b[0m\u001b[0mcs\u001b[0m\u001b[0;34m)\u001b[0m\u001b[0;34m:\u001b[0m\u001b[0;34m\u001b[0m\u001b[0;34m\u001b[0m\u001b[0m\n",
      "\u001b[0;32m<ipython-input-2-568c1e96e511>\u001b[0m in \u001b[0;36mseir\u001b[0;34m(t, y, p)\u001b[0m\n\u001b[1;32m      1\u001b[0m \u001b[0;32mdef\u001b[0m \u001b[0mseir\u001b[0m\u001b[0;34m(\u001b[0m\u001b[0mt\u001b[0m\u001b[0;34m,\u001b[0m \u001b[0my\u001b[0m\u001b[0;34m,\u001b[0m \u001b[0mp\u001b[0m\u001b[0;34m)\u001b[0m\u001b[0;34m:\u001b[0m\u001b[0;34m\u001b[0m\u001b[0;34m\u001b[0m\u001b[0m\n\u001b[1;32m      2\u001b[0m     return [\n\u001b[0;32m----> 3\u001b[0;31m         \u001b[0;34m-\u001b[0m\u001b[0mp\u001b[0m\u001b[0;34m[\u001b[0m\u001b[0;36m1\u001b[0m\u001b[0;34m]\u001b[0m\u001b[0;34m*\u001b[0m\u001b[0my\u001b[0m\u001b[0;34m[\u001b[0m\u001b[0;36m0\u001b[0m\u001b[0;34m]\u001b[0m\u001b[0;34m*\u001b[0m\u001b[0my\u001b[0m\u001b[0;34m[\u001b[0m\u001b[0;36m2\u001b[0m\u001b[0;34m]\u001b[0m\u001b[0;34m/\u001b[0m\u001b[0msum\u001b[0m\u001b[0;34m(\u001b[0m\u001b[0my\u001b[0m\u001b[0;34m[\u001b[0m\u001b[0;34m:\u001b[0m\u001b[0;36m4\u001b[0m\u001b[0;34m]\u001b[0m\u001b[0;34m)\u001b[0m \u001b[0;34m-\u001b[0m \u001b[0mca\u001b[0m\u001b[0;34m.\u001b[0m\u001b[0mif_else\u001b[0m\u001b[0;34m(\u001b[0m\u001b[0mt\u001b[0m\u001b[0;34m>\u001b[0m\u001b[0;36m84\u001b[0m\u001b[0;34m,\u001b[0m \u001b[0mp\u001b[0m\u001b[0;34m[\u001b[0m\u001b[0;36m3\u001b[0m\u001b[0;34m]\u001b[0m\u001b[0;34m*\u001b[0m\u001b[0my\u001b[0m\u001b[0;34m[\u001b[0m\u001b[0;36m0\u001b[0m\u001b[0;34m]\u001b[0m\u001b[0;34m,\u001b[0m \u001b[0;36m0\u001b[0m\u001b[0;34m,\u001b[0m \u001b[0;32mTrue\u001b[0m\u001b[0;34m)\u001b[0m\u001b[0;34m,\u001b[0m\u001b[0;34m\u001b[0m\u001b[0;34m\u001b[0m\u001b[0m\n\u001b[0m\u001b[1;32m      4\u001b[0m         \u001b[0mp\u001b[0m\u001b[0;34m[\u001b[0m\u001b[0;36m1\u001b[0m\u001b[0;34m]\u001b[0m\u001b[0;34m*\u001b[0m\u001b[0my\u001b[0m\u001b[0;34m[\u001b[0m\u001b[0;36m0\u001b[0m\u001b[0;34m]\u001b[0m\u001b[0;34m*\u001b[0m\u001b[0my\u001b[0m\u001b[0;34m[\u001b[0m\u001b[0;36m2\u001b[0m\u001b[0;34m]\u001b[0m\u001b[0;34m/\u001b[0m\u001b[0msum\u001b[0m\u001b[0;34m(\u001b[0m\u001b[0my\u001b[0m\u001b[0;34m[\u001b[0m\u001b[0;34m:\u001b[0m\u001b[0;36m4\u001b[0m\u001b[0;34m]\u001b[0m\u001b[0;34m)\u001b[0m \u001b[0;34m-\u001b[0m \u001b[0mp\u001b[0m\u001b[0;34m[\u001b[0m\u001b[0;36m2\u001b[0m\u001b[0;34m]\u001b[0m\u001b[0;34m*\u001b[0m\u001b[0my\u001b[0m\u001b[0;34m[\u001b[0m\u001b[0;36m1\u001b[0m\u001b[0;34m]\u001b[0m\u001b[0;34m,\u001b[0m\u001b[0;34m\u001b[0m\u001b[0;34m\u001b[0m\u001b[0m\n\u001b[1;32m      5\u001b[0m         \u001b[0mp\u001b[0m\u001b[0;34m[\u001b[0m\u001b[0;36m2\u001b[0m\u001b[0;34m]\u001b[0m\u001b[0;34m*\u001b[0m\u001b[0my\u001b[0m\u001b[0;34m[\u001b[0m\u001b[0;36m1\u001b[0m\u001b[0;34m]\u001b[0m \u001b[0;34m-\u001b[0m \u001b[0mp\u001b[0m\u001b[0;34m[\u001b[0m\u001b[0;36m0\u001b[0m\u001b[0;34m]\u001b[0m\u001b[0;34m*\u001b[0m\u001b[0my\u001b[0m\u001b[0;34m[\u001b[0m\u001b[0;36m2\u001b[0m\u001b[0;34m]\u001b[0m\u001b[0;34m,\u001b[0m\u001b[0;34m\u001b[0m\u001b[0;34m\u001b[0m\u001b[0m\n",
      "\u001b[0;32m~/.virtualenvs/scider/lib/python3.7/site-packages/casadi/casadi.py\u001b[0m in \u001b[0;36mif_else\u001b[0;34m(*args)\u001b[0m\n\u001b[1;32m  21465\u001b[0m \u001b[0;34m\u001b[0m\u001b[0m\n\u001b[1;32m  21466\u001b[0m     \"\"\"\n\u001b[0;32m> 21467\u001b[0;31m     \u001b[0;32mreturn\u001b[0m \u001b[0m_casadi\u001b[0m\u001b[0;34m.\u001b[0m\u001b[0mif_else\u001b[0m\u001b[0;34m(\u001b[0m\u001b[0;34m*\u001b[0m\u001b[0margs\u001b[0m\u001b[0;34m)\u001b[0m\u001b[0;34m\u001b[0m\u001b[0;34m\u001b[0m\u001b[0m\n\u001b[0m\u001b[1;32m  21468\u001b[0m \u001b[0;34m\u001b[0m\u001b[0m\n\u001b[1;32m  21469\u001b[0m \u001b[0;32mdef\u001b[0m \u001b[0mconditional\u001b[0m\u001b[0;34m(\u001b[0m\u001b[0;34m*\u001b[0m\u001b[0margs\u001b[0m\u001b[0;34m)\u001b[0m \u001b[0;34m->\u001b[0m \u001b[0;34m\"casadi::Matrix< casadi::SXElem >\"\u001b[0m\u001b[0;34m:\u001b[0m\u001b[0;34m\u001b[0m\u001b[0;34m\u001b[0m\u001b[0m\n",
      "\u001b[0;31mNotImplementedError\u001b[0m: Wrong number or type of arguments for overloaded function 'if_else'.\n  Possible prototypes are:\n    if_else(DM,DM,DM,bool)\n    if_else(SX,SX,SX,bool)\n    if_else(MX,MX,MX,bool)\n  You have: '(MX,SX,int,bool)'\n"
     ]
    }
   ],
   "source": [
    "model = modeller.Model(config)\n",
    "config['regularisation_value'][1] = model.ps[1]\n",
    "objective = fitter.Objective()\n",
    "objective.make(config, config['dataset'], model)\n",
    "\n",
    "solver_setup = {\n",
    "    'f': objective.objective,\n",
    "    'x': ca.vcat(objective.input_list),\n",
    "    'p': ca.hcat([objective.rho, objective.alpha]),\n",
    "    'g': ca.vcat(model.xs),\n",
    "}\n",
    "ipopt_opts = {\n",
    "    'ipopt': {\n",
    "        'print_level': 5,\n",
    "        'print_frequency_iter': 10,\n",
    "        \n",
    "    }\n",
    "}\n",
    "\n",
    "solver = ca.nlpsol('solver', 'ipopt', solver_setup, ipopt_opts)"
   ]
  },
  {
   "cell_type": "code",
   "execution_count": null,
   "metadata": {
    "ExecuteTime": {
     "end_time": "2019-12-18T04:28:56.015995Z",
     "start_time": "2019-12-18T04:28:54.416Z"
    }
   },
   "outputs": [],
   "source": [
    "f1_ex = ca.Function('f1_ex', [solver_setup['x']], [objective.obj_1])\n",
    "f2_ex = ca.Function('f2_ex', [solver_setup['x']], [objective.obj_2])\n",
    "getx = ca.Function('getx', [solver_setup['x']], model.xs)\n",
    "getp = ca.Function('getx', [solver_setup['x']], model.ps)\n"
   ]
  },
  {
   "cell_type": "code",
   "execution_count": null,
   "metadata": {
    "ExecuteTime": {
     "end_time": "2019-12-18T04:28:56.016620Z",
     "start_time": "2019-12-18T04:28:54.417Z"
    }
   },
   "outputs": [],
   "source": [
    "c0 = [max(cumdata)*np.ones(config['basis_number']) for _ in range(5)]\n",
    "x0 = np.hstack([*c0, p0])\n",
    "lbx = [-np.inf]*(config['basis_number']*5) + [0]*len(config['regularisation_value'])\n",
    "alpha = 1e3"
   ]
  },
  {
   "cell_type": "code",
   "execution_count": null,
   "metadata": {
    "ExecuteTime": {
     "end_time": "2019-12-18T04:28:56.017208Z",
     "start_time": "2019-12-18T04:28:54.419Z"
    },
    "scrolled": true
   },
   "outputs": [],
   "source": [
    "pure_solve = solver(x0=x0, p=[0, 0], lbx=lbx, lbg=0)"
   ]
  },
  {
   "cell_type": "code",
   "execution_count": null,
   "metadata": {
    "ExecuteTime": {
     "end_time": "2019-12-18T04:28:56.017907Z",
     "start_time": "2019-12-18T04:28:54.421Z"
    },
    "scrolled": true
   },
   "outputs": [],
   "source": [
    "pure_xs = getx(pure_solve['x'])\n",
    "plt.plot(model.observation_times, pure_xs[-1])\n",
    "plt.plot(times, cumdata, 'o')"
   ]
  },
  {
   "cell_type": "code",
   "execution_count": null,
   "metadata": {
    "ExecuteTime": {
     "end_time": "2019-12-18T04:28:56.018457Z",
     "start_time": "2019-12-18T04:28:54.422Z"
    }
   },
   "outputs": [],
   "source": [
    "lbg = [0]*len(model.observation_times)*config['model_form']['state']\n",
    "ubg = [140000]*len(model.observation_times)*config['model_form']['state']\n",
    "# lbg[0] = 150000"
   ]
  },
  {
   "cell_type": "code",
   "execution_count": null,
   "metadata": {
    "ExecuteTime": {
     "end_time": "2019-12-18T04:28:56.019078Z",
     "start_time": "2019-12-18T04:28:54.424Z"
    }
   },
   "outputs": [],
   "source": [
    "prange = np.logspace(-6, 6, num=100)\n",
    "sols = []\n",
    "xguess = x0\n",
    "for p in prange:\n",
    "    solve_opts = {\n",
    "        'x0': xguess,\n",
    "        'p': [p, alpha],\n",
    "        'lbx': lbx,\n",
    "        'lbg': lbg,\n",
    "        'ubg': ubg\n",
    "    }\n",
    "    print(f\"Solving for p={p}\")\n",
    "    sols.append(solver(**solve_opts))\n",
    "    xguess = np.array(sols[-1]['x']).flatten()"
   ]
  },
  {
   "cell_type": "code",
   "execution_count": null,
   "metadata": {
    "ExecuteTime": {
     "end_time": "2019-12-18T04:28:56.019603Z",
     "start_time": "2019-12-18T04:28:54.424Z"
    }
   },
   "outputs": [],
   "source": [
    "fsvals = np.array([(float(f1_ex(s['x'])), float(f2_ex(s['x']))) for s in sols])"
   ]
  },
  {
   "cell_type": "code",
   "execution_count": null,
   "metadata": {
    "ExecuteTime": {
     "end_time": "2019-12-18T04:28:56.020167Z",
     "start_time": "2019-12-18T04:28:54.426Z"
    }
   },
   "outputs": [],
   "source": [
    "idx = 55\n",
    "plt.plot(prange, [float(s['x'][-3]) for s in sols], 'o-', label=r'$\\alpha$')\n",
    "plt.plot(prange, [float(s['x'][-2]) for s in sols], 'o-', label=r'$\\beta$')\n",
    "plt.plot(prange, [float(s['x'][-1]) for s in sols], 'o-', label=r'$\\gamma$')\n",
    "for q in p0:\n",
    "    plt.axhline(q, color='k')\n",
    "plt.xscale('log')\n",
    "plt.yscale('log')\n",
    "plt.axvline(prange[idx], color='r')\n",
    "plt.legend()"
   ]
  },
  {
   "cell_type": "code",
   "execution_count": null,
   "metadata": {
    "ExecuteTime": {
     "end_time": "2019-12-18T04:28:56.020678Z",
     "start_time": "2019-12-18T04:28:54.428Z"
    }
   },
   "outputs": [],
   "source": [
    "plt.loglog(*fsvals.T, 'o--',)\n",
    "plt.loglog(*fsvals[idx], 'ro')"
   ]
  },
  {
   "cell_type": "code",
   "execution_count": null,
   "metadata": {
    "ExecuteTime": {
     "end_time": "2019-12-18T04:28:56.021204Z",
     "start_time": "2019-12-18T04:28:54.428Z"
    }
   },
   "outputs": [],
   "source": [
    "getN = lambda idx: np.mean(np.hstack([np.array(x) for x in getx(sols[idx]['x'])]).sum(axis=1))\n",
    "plt.loglog(prange, [getN(i) for i,_ in enumerate(prange)])"
   ]
  },
  {
   "cell_type": "code",
   "execution_count": null,
   "metadata": {
    "ExecuteTime": {
     "end_time": "2019-12-18T04:28:56.021775Z",
     "start_time": "2019-12-18T04:28:54.430Z"
    }
   },
   "outputs": [],
   "source": [
    "getM = lambda idx: np.mean(np.hstack([np.array(x) for x in getx(sols[idx]['x'])]), axis=0)\n",
    "plt.semilogx(prange, [getM(i) for i,_ in enumerate(prange)])\n",
    "plt.yscale('log')\n",
    "plt.legend(\"SEIRC\")"
   ]
  },
  {
   "cell_type": "code",
   "execution_count": null,
   "metadata": {
    "ExecuteTime": {
     "end_time": "2019-12-18T04:28:56.022267Z",
     "start_time": "2019-12-18T04:28:54.431Z"
    }
   },
   "outputs": [],
   "source": [
    "# applying the final size relation\n",
    "from scipy.optimize import brentq\n",
    "def rinf(sol):\n",
    "    pfin = np.array([float(p) for p in getp(sol['x'])])\n",
    "    r0 = pfin[1]/pfin[0]\n",
    "    S0, E0, I0, R0, C0 = [float(x[0]) for x in getx(sol['x'])]\n",
    "    N = sum((S0, E0, I0, R0))\n",
    "    f = lambda y: y/S0 - np.exp(r0*(y-N)/N) \n",
    "    sinf = brentq(f, 0, S0) \n",
    "    return N-sinf\n",
    "\n",
    "# def rinf(sol):\n",
    "#     r0 = 8*getp(sol['x'])\n",
    "#     S0, E0, I0, R0 = [float(x[0]) for x in getx(sol['x'])]\n",
    "#     N = sum((S0, E0, I0, R0))\n",
    "#     f = lambda y: y/S0 - np.exp(r0*(y-N)/N)\n",
    "#     sinf = brentq(f, 0, S0)\n",
    "#     return N-sinf"
   ]
  },
  {
   "cell_type": "code",
   "execution_count": null,
   "metadata": {
    "ExecuteTime": {
     "end_time": "2019-12-18T04:28:56.022756Z",
     "start_time": "2019-12-18T04:28:54.433Z"
    }
   },
   "outputs": [],
   "source": [
    "plt.semilogx(prange[:], [rinf(sol) for sol in sols][:], 'o')\n",
    "plt.axvline(prange[idx], color='r')\n",
    "plt.ylim([0,20000])"
   ]
  },
  {
   "cell_type": "code",
   "execution_count": null,
   "metadata": {
    "ExecuteTime": {
     "end_time": "2019-12-18T04:28:56.023331Z",
     "start_time": "2019-12-18T04:28:54.434Z"
    }
   },
   "outputs": [],
   "source": [
    "rinf(sols[idx])"
   ]
  },
  {
   "cell_type": "code",
   "execution_count": null,
   "metadata": {
    "ExecuteTime": {
     "end_time": "2019-12-18T04:28:56.023912Z",
     "start_time": "2019-12-18T04:28:54.435Z"
    }
   },
   "outputs": [],
   "source": [
    "def r0(sol):\n",
    "    pfin = np.array([float(p) for p in getp(sol['x'])])\n",
    "    return pfin[1]/pfin[0]\n",
    "# def r0(sol):\n",
    "#     return 8*getp(sol['x'])\n",
    "plt.plot(prange[7:-3], [r0(sol) for sol in sols][7:-3], 'o')\n",
    "plt.xscale('log')\n",
    "plt.yscale('log')\n",
    "plt.axvline(prange[idx], color='r')"
   ]
  },
  {
   "cell_type": "code",
   "execution_count": null,
   "metadata": {
    "ExecuteTime": {
     "end_time": "2019-12-18T04:28:56.024460Z",
     "start_time": "2019-12-18T04:28:54.437Z"
    }
   },
   "outputs": [],
   "source": [
    "[getx(sols[idx]['x'])[i][50] for i in range(5)]"
   ]
  },
  {
   "cell_type": "code",
   "execution_count": null,
   "metadata": {
    "ExecuteTime": {
     "end_time": "2019-12-18T04:28:56.025008Z",
     "start_time": "2019-12-18T04:28:54.438Z"
    }
   },
   "outputs": [],
   "source": [
    "getx(sols[idx]['x'])[0][0]"
   ]
  },
  {
   "cell_type": "code",
   "execution_count": null,
   "metadata": {
    "ExecuteTime": {
     "end_time": "2019-12-18T04:28:56.025598Z",
     "start_time": "2019-12-18T04:28:54.439Z"
    }
   },
   "outputs": [],
   "source": [
    "getp(sols[idx]['x'])"
   ]
  },
  {
   "cell_type": "code",
   "execution_count": null,
   "metadata": {
    "ExecuteTime": {
     "end_time": "2019-12-18T04:28:56.026103Z",
     "start_time": "2019-12-18T04:28:54.440Z"
    }
   },
   "outputs": [],
   "source": [
    "r0(sols[idx])"
   ]
  },
  {
   "cell_type": "code",
   "execution_count": null,
   "metadata": {
    "ExecuteTime": {
     "end_time": "2019-12-18T04:28:56.026731Z",
     "start_time": "2019-12-18T04:28:54.441Z"
    }
   },
   "outputs": [],
   "source": [
    "fig, ax=plt.subplots(figsize=[13, 8], dpi=60)\n",
    "ax.plot(times, cumdata, 'o', label='Data')\n",
    "ax.plot(model.observation_times, getx(sols[idx]['x'])[0], label='S')\n",
    "ax.plot(model.observation_times, getx(sols[idx]['x'])[1], label='E')\n",
    "ax.plot(model.observation_times, getx(sols[idx]['x'])[2], label='I')\n",
    "ax.plot(model.observation_times, getx(sols[idx]['x'])[3], label='R')\n",
    "ax.plot(model.observation_times, getx(sols[idx]['x'])[4], label='C')\n",
    "plt.legend()"
   ]
  },
  {
   "cell_type": "code",
   "execution_count": null,
   "metadata": {
    "ExecuteTime": {
     "end_time": "2019-12-18T04:28:56.027273Z",
     "start_time": "2019-12-18T04:28:54.442Z"
    }
   },
   "outputs": [],
   "source": [
    "fig, ax=plt.subplots(figsize=[13, 8], dpi=60)\n",
    "xx = np.vstack([xix.toarray().flatten() for xix in getx(sols[idx]['x'])])\n",
    "dxxdt = np.vstack([seir(0, xxj, [float(q) for q in getp(sols[idx]['x'])]) for xxj in xx.T])\n",
    "for i, xxi in enumerate(xx):\n",
    "    ax.quiver(model.observation_times, xxi, [1]*len(model.observation_times), dxxdt[:,i], \n",
    "              angles='xy', headwidth=0.75, headlength=1, headaxislength=2, width=0.0025)\n",
    "for i, xxi in enumerate(xx):\n",
    "    ax.quiver(model.observation_times, xxi, np.gradient(model.observation_times), np.gradient(xxi, model.observation_times), color='r', \n",
    "              angles='xy', headwidth=0.75, headlength=1, headaxislength=2, width=0.0025, alpha=0.3)"
   ]
  },
  {
   "cell_type": "code",
   "execution_count": null,
   "metadata": {
    "ExecuteTime": {
     "end_time": "2019-12-18T04:28:56.027835Z",
     "start_time": "2019-12-18T04:28:54.443Z"
    }
   },
   "outputs": [],
   "source": [
    "fig, ax=plt.subplots(figsize=[13, 8], dpi=60)\n",
    "\n",
    "ax.plot(times, cumdata, 'o', label='Data')\n",
    "ax.plot(model.observation_times, getx(sols[idx]['x'])[4], label='Prediction')\n",
    "plt.legend()\n",
    "plt.xlabel(\"Days since 28 August 2019\")\n",
    "plt.ylabel(\"# Cases\")\n",
    "plt.title(\"Number of Reported Cases (Prediction)\")"
   ]
  },
  {
   "cell_type": "code",
   "execution_count": null,
   "metadata": {
    "ExecuteTime": {
     "end_time": "2019-12-18T04:28:56.028364Z",
     "start_time": "2019-12-18T04:28:54.446Z"
    }
   },
   "outputs": [],
   "source": [
    "import matplotlib.cm as mplcm\n",
    "import matplotlib.colors as colors\n",
    "\n",
    "plt.figure(figsize=[13,8], dpi=360)\n",
    "\n",
    "cNorm = colors.Normalize(vmin=np.log10(prange[0]), vmax=np.log10(prange[-1]))\n",
    "cm = plt.get_cmap('gnuplot')\n",
    "scalarMap = mplcm.ScalarMappable(norm=cNorm, cmap=cm)\n",
    "\n",
    "for i,p in enumerate(prange[40:-15:]):\n",
    "    plt.plot(model.observation_times, getx(sols[i+40]['x'])[-1], color='k', alpha=0.4)\n",
    "plt.plot(times, cumdata, 'o', label=\"Data\")\n",
    "plt.title(\"Fit and Prediction of the Number of Reported Cases of Measles in Samoa Late 2019\")\n",
    "plt.xlabel(\"Days since 28 August 2019\")\n",
    "plt.ylabel(\"Number of Cases\")\n",
    "cbar = plt.colorbar(scalarMap)\n",
    "cbar.set_label(r'$\\log_{10}($tuning parameter$)$', rotation=270)\n",
    "plt.legend()\n",
    "plt.ylim(0, 10000)"
   ]
  },
  {
   "cell_type": "code",
   "execution_count": null,
   "metadata": {
    "ExecuteTime": {
     "end_time": "2019-12-18T04:28:56.028945Z",
     "start_time": "2019-12-18T04:28:54.447Z"
    }
   },
   "outputs": [],
   "source": [
    "fsvals[idx]"
   ]
  },
  {
   "cell_type": "code",
   "execution_count": null,
   "metadata": {
    "ExecuteTime": {
     "end_time": "2019-12-18T04:28:56.029482Z",
     "start_time": "2019-12-18T04:28:54.448Z"
    }
   },
   "outputs": [],
   "source": [
    "getc = ca.Function('getx', [solver_setup['x']], model.cs)\n",
    "np.sqrt(ca.sumsqr(cumdata - objective.collocation_matrices[0]@getc(sols[idx]['x'])[-1])/(len(times)-1))"
   ]
  },
  {
   "cell_type": "code",
   "execution_count": null,
   "metadata": {
    "ExecuteTime": {
     "end_time": "2019-12-18T04:28:56.030024Z",
     "start_time": "2019-12-18T04:28:54.449Z"
    }
   },
   "outputs": [],
   "source": [
    "getp(sols[idx]['x'])"
   ]
  },
  {
   "cell_type": "code",
   "execution_count": null,
   "metadata": {
    "ExecuteTime": {
     "end_time": "2019-12-18T04:28:56.030562Z",
     "start_time": "2019-12-18T04:28:54.450Z"
    }
   },
   "outputs": [],
   "source": [
    "profiler_setup = {\n",
    "    'f': objective.objective,\n",
    "    'x': ca.vcat(objective.input_list),\n",
    "    'p': ca.hcat([objective.rho, objective.alpha]),\n",
    "}\n",
    "opts = {'ipopt': {'dual_inf_tol': 1e-1, 'print_frequency_iter': 10}}\n",
    "profiler = ca.nlpsol('solver', 'ipopt', profiler_setup, opts)"
   ]
  },
  {
   "cell_type": "code",
   "execution_count": null,
   "metadata": {
    "ExecuteTime": {
     "end_time": "2019-12-18T04:28:56.031155Z",
     "start_time": "2019-12-18T04:28:54.452Z"
    }
   },
   "outputs": [],
   "source": [
    "rho = prange[idx]\n",
    "pref = getp(sols[idx]['x'])\n",
    "lbx = [-np.inf]*(config['basis_number']*config['model_form']['state']) + [0]*config['model_form']['parameters']\n",
    "ubx = [np.inf]*(config['basis_number']*config['model_form']['state'] + config['model_form']['parameters'])\n",
    "\n",
    "profiles = []\n",
    "for pdx in range(config['model_form']['parameters']):\n",
    "    pdx_mod = config['basis_number']*config['model_form']['state'] + pdx\n",
    "    pvals = np.logspace(-1.5, 0.5, num=50)\n",
    "    profiles.append([])\n",
    "    for pval in pvals:\n",
    "        lbx0 = np.array(lbx)\n",
    "        ubx0 = np.array(ubx)\n",
    "        lbx0[pdx_mod] = pval\n",
    "        ubx0[pdx_mod] = pval\n",
    "        profiles[pdx].append(profiler(x0=np.array(sols[idx]['x']).flatten(), p=[rho, alpha], lbx=lbx0, ubx=ubx0))"
   ]
  },
  {
   "cell_type": "code",
   "execution_count": null,
   "metadata": {
    "ExecuteTime": {
     "end_time": "2019-12-18T04:28:56.031715Z",
     "start_time": "2019-12-18T04:28:54.452Z"
    }
   },
   "outputs": [],
   "source": [
    "def linterp(x1, x2, y1, y2, t):\n",
    "    return (x2-x1)/(y2-y1)*(t-y1)+x1"
   ]
  },
  {
   "cell_type": "code",
   "execution_count": null,
   "metadata": {
    "ExecuteTime": {
     "end_time": "2019-12-18T04:28:56.032277Z",
     "start_time": "2019-12-18T04:28:54.454Z"
    }
   },
   "outputs": [],
   "source": [
    "f0 = [(x['f']) for x in profiles[0]]\n",
    "f0r = [np.exp(-(f0i-min(f0))) for f0i in f0]\n",
    "plt.loglog(np.logspace(-2, 1, num=50).flatten(), f0)"
   ]
  },
  {
   "cell_type": "code",
   "execution_count": null,
   "metadata": {
    "ExecuteTime": {
     "end_time": "2019-12-18T04:28:56.032808Z",
     "start_time": "2019-12-18T04:28:54.455Z"
    },
    "scrolled": true
   },
   "outputs": [],
   "source": [
    "list(zip(range(50), np.logspace(-2, 1, num=50),f0r))"
   ]
  },
  {
   "cell_type": "code",
   "execution_count": null,
   "metadata": {
    "ExecuteTime": {
     "end_time": "2019-12-18T04:28:56.033308Z",
     "start_time": "2019-12-18T04:28:54.456Z"
    }
   },
   "outputs": [],
   "source": [
    "a0 = linterp(0.011513953993264475, 0.013257113655901088, 0.145754, 0.152931, 0.15)\n",
    "a1 = linterp( 0.2559547922699536, 0.29470517025518095, 0.314558, 0.115928,  0.15)\n",
    "a0idx = [1, 2]\n",
    "a1idx = [23, 24]"
   ]
  },
  {
   "cell_type": "code",
   "execution_count": null,
   "metadata": {
    "ExecuteTime": {
     "end_time": "2019-12-18T04:28:56.033840Z",
     "start_time": "2019-12-18T04:28:54.458Z"
    }
   },
   "outputs": [],
   "source": [
    "f1 = [(x['f']) for x in profiles[1]]\n",
    "f1r = [np.exp(-(f1i-min(f1))) for f1i in f1]\n",
    "plt.loglog(np.logspace(-2, 1, num=50).flatten(), f1)"
   ]
  },
  {
   "cell_type": "code",
   "execution_count": null,
   "metadata": {
    "ExecuteTime": {
     "end_time": "2019-12-18T04:28:56.034333Z",
     "start_time": "2019-12-18T04:28:54.458Z"
    },
    "scrolled": true
   },
   "outputs": [],
   "source": [
    "list(zip(range(50), np.logspace(-2, 1, num=50),f1r))"
   ]
  },
  {
   "cell_type": "code",
   "execution_count": null,
   "metadata": {
    "ExecuteTime": {
     "end_time": "2019-12-18T04:28:56.034909Z",
     "start_time": "2019-12-18T04:28:54.460Z"
    }
   },
   "outputs": [],
   "source": [
    "b0 = linterp(0.6866488450043002, 0.7906043210907697,0.105638 , 0.158776, 0.15)\n",
    "b1 = linterp(2.8117686979742306,2.8117686979742308, 0.149, 0.151, 0.15)\n",
    "b0idx = [30, 31]\n",
    "b1idx = [40, 40]"
   ]
  },
  {
   "cell_type": "code",
   "execution_count": null,
   "metadata": {
    "ExecuteTime": {
     "end_time": "2019-12-18T04:28:56.035438Z",
     "start_time": "2019-12-18T04:28:54.461Z"
    }
   },
   "outputs": [],
   "source": [
    "r0int = [b0/a0, b0/a1, b1/a0, b1/a1]\n",
    "r0int"
   ]
  },
  {
   "cell_type": "code",
   "execution_count": null,
   "metadata": {
    "ExecuteTime": {
     "end_time": "2019-12-18T04:28:56.035981Z",
     "start_time": "2019-12-18T04:28:54.462Z"
    }
   },
   "outputs": [],
   "source": [
    "def gets0(pdx, idx):\n",
    "    return float(getx(profiles[pdx][idx]['x'])[0][0])\n",
    "def means0(pdx, idxs):\n",
    "    return np.mean([gets0(pdx, idx) for idx in idxs])\n",
    "s0 = [means0(0, a0idx), means0(0, a1idx), means0(1,b0idx), means0(1,b1idx)]\n",
    "def crossmean(axs, bxs):\n",
    "    s = []\n",
    "    for a in axs:\n",
    "        for b in bxs:\n",
    "            s.append(np.mean([a, b]))\n",
    "    return s\n",
    "s0mean = crossmean(s0[2:], s0[:2])"
   ]
  },
  {
   "cell_type": "code",
   "execution_count": null,
   "metadata": {
    "ExecuteTime": {
     "end_time": "2019-12-18T04:28:56.036597Z",
     "start_time": "2019-12-18T04:28:54.463Z"
    }
   },
   "outputs": [],
   "source": [
    "def rinft(r0,s0):\n",
    "    f = lambda y: y/s0 - np.exp(r0*(y-s0)/s0) \n",
    "    sinf = brentq(f, 0, s0-1) \n",
    "    return s0-sinf\n",
    "[rinft(r0x, s0x) for r0x, s0x in zip(r0int, s0mean)]"
   ]
  },
  {
   "cell_type": "code",
   "execution_count": null,
   "metadata": {
    "ExecuteTime": {
     "end_time": "2019-12-18T04:28:56.037235Z",
     "start_time": "2019-12-18T04:28:54.464Z"
    }
   },
   "outputs": [],
   "source": [
    "f2 = [(x['f']) for x in profiles[2]]\n",
    "plt.semilogx(np.logspace(-2, 1, num=50).flatten()[:25], f2[:25])"
   ]
  },
  {
   "cell_type": "code",
   "execution_count": null,
   "metadata": {
    "ExecuteTime": {
     "end_time": "2019-12-18T04:28:56.037966Z",
     "start_time": "2019-12-18T04:28:54.465Z"
    }
   },
   "outputs": [],
   "source": [
    "def mod_seir(t, y, p):\n",
    "    for i, yi in enumerate(y):\n",
    "        if yi < 0:\n",
    "            y[i] = 0 \n",
    "    return seir(t, y, p)"
   ]
  },
  {
   "cell_type": "code",
   "execution_count": null,
   "metadata": {
    "ExecuteTime": {
     "end_time": "2019-12-18T04:28:56.038748Z",
     "start_time": "2019-12-18T04:28:54.467Z"
    }
   },
   "outputs": [],
   "source": [
    "from scipy.integrate import solve_ivp\n",
    "tidx = 45\n",
    "print(model.observation_times[tidx])\n",
    "sol = solve_ivp(lambda t,y: mod_seir(t, y, getp(sols[idx]['x'])), [0, 150], [getx(sols[idx]['x'])[i][tidx] for i in range(5)], dense_output=True)\n",
    "# solb = solve_ivp(lambda t,y: np.array(mod_seir(t, y, getp(sols[idx]['x']))), [0, -20], [getx(sols[idx]['x'])[i][tidx] for i in range(5)], method='BDF', dense_output=True)"
   ]
  },
  {
   "cell_type": "code",
   "execution_count": null,
   "metadata": {
    "ExecuteTime": {
     "end_time": "2019-12-18T04:28:56.039458Z",
     "start_time": "2019-12-18T04:28:54.470Z"
    }
   },
   "outputs": [],
   "source": [
    "[getx(sols[idx]['x'])[i][tidx] for i in range(5)]"
   ]
  },
  {
   "cell_type": "code",
   "execution_count": null,
   "metadata": {
    "ExecuteTime": {
     "end_time": "2019-12-18T04:28:56.040132Z",
     "start_time": "2019-12-18T04:28:54.470Z"
    }
   },
   "outputs": [],
   "source": [
    "plt.plot(sol.t, sol.y[:,:].T)"
   ]
  },
  {
   "cell_type": "code",
   "execution_count": null,
   "metadata": {
    "ExecuteTime": {
     "end_time": "2019-12-18T04:28:56.040881Z",
     "start_time": "2019-12-18T04:28:54.471Z"
    }
   },
   "outputs": [],
   "source": [
    "plt.plot(solb.t, solb.y.T)"
   ]
  },
  {
   "cell_type": "code",
   "execution_count": null,
   "metadata": {
    "ExecuteTime": {
     "end_time": "2019-12-18T04:28:56.041599Z",
     "start_time": "2019-12-18T04:28:54.473Z"
    }
   },
   "outputs": [],
   "source": [
    "model.observation_times[-1]"
   ]
  },
  {
   "cell_type": "code",
   "execution_count": null,
   "metadata": {
    "ExecuteTime": {
     "end_time": "2019-12-18T04:28:56.042291Z",
     "start_time": "2019-12-18T04:28:54.474Z"
    }
   },
   "outputs": [],
   "source": [
    "tfine = np.linspace(0, 150, 600)\n",
    "# tbfine = np.linspace(0, -20, 20)\n",
    "plt.figure(figsize=[13, 8], dpi=240)\n",
    "# plt.plot(tbfine+model.observation_times[tidx], solb.sol(tbfine)[-1,:].T)\n",
    "plt.plot(tfine+model.observation_times[tidx], sol.sol(tfine)[-1,:].T)\n",
    "plt.plot(times, cumdata, 'o')\n",
    "plt.xlim(0, 140)\n",
    "plt.legend([\"Prediction\", \"Reported Data\"])\n",
    "plt.xlabel(\"Days since 28 August 2019\")\n",
    "plt.ylabel(\"# Cases\")\n",
    "plt.title(\"Number of Reported Cases (Prediction)\")\n",
    "\n",
    "plt.plot(model.observation_times, getx(sols[idx]['x'])[4], label='Prediction')\n"
   ]
  },
  {
   "cell_type": "code",
   "execution_count": null,
   "metadata": {
    "ExecuteTime": {
     "end_time": "2019-12-18T04:28:56.043028Z",
     "start_time": "2019-12-18T04:28:54.476Z"
    }
   },
   "outputs": [],
   "source": [
    "rfin = sol.sol(tfine)[-1,-1]\n",
    "rfin"
   ]
  },
  {
   "cell_type": "code",
   "execution_count": null,
   "metadata": {
    "ExecuteTime": {
     "end_time": "2019-12-18T04:28:56.043814Z",
     "start_time": "2019-12-18T04:28:54.476Z"
    }
   },
   "outputs": [],
   "source": [
    "ridx = np.argmin(np.abs(((1-(sol.sol(tfine)[-1,:])/rfin)*100) - 5))"
   ]
  },
  {
   "cell_type": "code",
   "execution_count": null,
   "metadata": {
    "ExecuteTime": {
     "end_time": "2019-12-18T04:28:56.044564Z",
     "start_time": "2019-12-18T04:28:54.478Z"
    }
   },
   "outputs": [],
   "source": [
    "tfine[ridx]"
   ]
  },
  {
   "cell_type": "code",
   "execution_count": null,
   "metadata": {
    "ExecuteTime": {
     "end_time": "2019-12-18T04:28:56.045306Z",
     "start_time": "2019-12-18T04:28:54.478Z"
    }
   },
   "outputs": [],
   "source": [
    "tfine[ridx]-(model.observation_times[-1]-model.observation_times[tidx])"
   ]
  },
  {
   "cell_type": "code",
   "execution_count": null,
   "metadata": {
    "ExecuteTime": {
     "end_time": "2019-12-18T04:28:56.046075Z",
     "start_time": "2019-12-18T04:28:54.480Z"
    }
   },
   "outputs": [],
   "source": [
    "model.observation_times[-1]-model.observation_times[tidx]"
   ]
  },
  {
   "cell_type": "code",
   "execution_count": null,
   "metadata": {
    "ExecuteTime": {
     "end_time": "2019-12-18T04:28:56.046589Z",
     "start_time": "2019-12-18T04:28:54.481Z"
    }
   },
   "outputs": [],
   "source": [
    "historical_mortality = 0.02\n",
    "current_mortality = D[-1]/cumdata[-1]\n",
    "print(historical_mortality, current_mortality)"
   ]
  },
  {
   "cell_type": "code",
   "execution_count": null,
   "metadata": {
    "ExecuteTime": {
     "end_time": "2019-12-18T04:28:56.047096Z",
     "start_time": "2019-12-18T04:28:54.482Z"
    }
   },
   "outputs": [],
   "source": [
    "rfin*historical_mortality"
   ]
  },
  {
   "cell_type": "code",
   "execution_count": null,
   "metadata": {
    "ExecuteTime": {
     "end_time": "2019-12-18T04:28:56.047747Z",
     "start_time": "2019-12-18T04:28:54.483Z"
    }
   },
   "outputs": [],
   "source": [
    "rfin*current_mortality"
   ]
  },
  {
   "cell_type": "code",
   "execution_count": null,
   "metadata": {
    "ExecuteTime": {
     "end_time": "2019-12-18T04:28:56.048372Z",
     "start_time": "2019-12-18T04:28:54.484Z"
    }
   },
   "outputs": [],
   "source": [
    "import matplotlib.cm as mplcm\n",
    "import matplotlib.colors as colors\n",
    "i0, i1 = (1, -1)\n",
    "\n",
    "cNorm = colors.Normalize(vmin=np.log10(prange[i0]), vmax=np.log10(prange[i1]))\n",
    "cm = plt.get_cmap('viridis')\n",
    "scalarMap = mplcm.ScalarMappable(norm=cNorm, cmap=cm)\n",
    "\n",
    "plt.figure(figsize=[13,8], dpi=60)\n",
    "for i,p in enumerate(prange[i0:i1]):\n",
    "    plt.plot(model.observation_times, np.gradient(getx(sols[i]['x'])[4].toarray().flatten(), model.observation_times),\n",
    "            color=scalarMap.to_rgba(np.log10(p)), alpha=0.3)\n",
    "plt.plot(times, np.gradient(cumdata, times), 'ro')\n",
    "cbar = plt.colorbar(scalarMap)\n",
    "cbar.set_label(r'$\\log_{10}($tuning parameter$)$', rotation=270)"
   ]
  },
  {
   "cell_type": "code",
   "execution_count": null,
   "metadata": {},
   "outputs": [],
   "source": []
  }
 ],
 "metadata": {
  "@webio": {
   "lastCommId": "803e2b3b0d344b0cab950f21fc44ba89",
   "lastKernelId": "f2bc68de-0309-4f6c-aeaa-9eb08458eb34"
  },
  "kernelspec": {
   "display_name": "Python 3",
   "language": "python",
   "name": "python3"
  },
  "language_info": {
   "codemirror_mode": {
    "name": "ipython",
    "version": 3
   },
   "file_extension": ".py",
   "mimetype": "text/x-python",
   "name": "python",
   "nbconvert_exporter": "python",
   "pygments_lexer": "ipython3",
   "version": "3.7.4"
  }
 },
 "nbformat": 4,
 "nbformat_minor": 2
}
